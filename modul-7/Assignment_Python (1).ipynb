{
  "nbformat": 4,
  "nbformat_minor": 0,
  "metadata": {
    "colab": {
      "provenance": []
    },
    "kernelspec": {
      "name": "python3",
      "display_name": "Python 3"
    },
    "language_info": {
      "name": "python"
    }
  },
  "cells": [
    {
      "cell_type": "code",
      "execution_count": null,
      "metadata": {
        "id": "9fACSxuanaFt"
      },
      "outputs": [],
      "source": [
        "#1.What are the types of Applications?\n",
        "\n",
        "#Applications, or software applications, can be classified into several types based on their purpose,\n",
        "#platform, and technology used. Here’s an overview of the main types of applications:\n"
      ]
    },
    {
      "cell_type": "code",
      "source": [
        "#2.What is programing?\n",
        "#Python programming is the process of creating software applications using the Python language, known for its simple syntax, readability, and versatility."
      ],
      "metadata": {
        "id": "tIfyS70LzVDZ"
      },
      "execution_count": null,
      "outputs": []
    },
    {
      "cell_type": "code",
      "source": [
        "#3.What is Python?\n",
        "#Python is like giving instructions to a computer using simple English words.\n",
        "#Python is a very easy and powerful programming language used to tell computers what to do."
      ],
      "metadata": {
        "id": "fAo4mwxkzVeP"
      },
      "execution_count": null,
      "outputs": []
    },
    {
      "cell_type": "code",
      "source": [
        "#4.Write a Python program to check if a number is positive, negative or zero.\n",
        "num = int(input(\"Enter a Number:\"))\n",
        "\n",
        "if num > 0:\n",
        "  print(f\"{num} Is  Positive\")\n",
        "elif num <0:\n",
        "  print(f\"{num} Is  Negative\")\n",
        "else:\n",
        "  print(f\"{num} Is  Zero\")\n",
        "\n"
      ],
      "metadata": {
        "colab": {
          "base_uri": "https://localhost:8080/"
        },
        "id": "vitCywFUzVhk",
        "outputId": "ffdefb85-e3fe-4f19-a235-df0e49cd35d4"
      },
      "execution_count": null,
      "outputs": [
        {
          "output_type": "stream",
          "name": "stdout",
          "text": [
            "Enter a Number:5\n",
            "5 Is  Positive\n"
          ]
        }
      ]
    },
    {
      "cell_type": "code",
      "source": [
        "#5. Write a Python program to get the Factorial number of given numbers. ?\n",
        "# Find factorial of a number using loop\n",
        "\n",
        "num = int(input(\"Enter a number: \"))\n",
        "factorial = 1\n",
        "\n",
        "if num < 0:\n",
        "    print(\"Factorial is not defined for negative numbers.\")\n",
        "elif num == 0:\n",
        "    print(\"The factorial of 0 is 1.\")\n",
        "else:\n",
        "    for i in range(1, num + 1):\n",
        "        factorial *= i\n",
        "    print(f\"The factorial of {num} is {factorial}\")\n"
      ],
      "metadata": {
        "colab": {
          "base_uri": "https://localhost:8080/"
        },
        "id": "n3XU1dojzVj4",
        "outputId": "23cb50b3-7c02-4712-fc75-40c512a83e7f"
      },
      "execution_count": null,
      "outputs": [
        {
          "output_type": "stream",
          "name": "stdout",
          "text": [
            "Enter a number: 5\n",
            "The factorial of 5 is 120\n"
          ]
        }
      ]
    },
    {
      "cell_type": "code",
      "source": [
        "#6. Write a Python program to get the Fibonacci series of given range.?\n",
        "n = int(input(\"Enter the number of terms: \"))\n",
        "\n",
        "a, b = 0, 1\n",
        "\n",
        "if n <= 0:\n",
        "    print(\"Please enter a positive integer.\")\n",
        "elif n == 1:\n",
        "    print(\"Fibonacci sequence up to 1 term:\")\n",
        "    print(a)\n",
        "else:\n",
        "    print(\"Fibonacci sequence:\")\n",
        "    for i in range(n):\n",
        "        print(a, end=\" \")\n",
        "        a, b = b, a + b\n"
      ],
      "metadata": {
        "colab": {
          "base_uri": "https://localhost:8080/"
        },
        "id": "8YFxcAv3zVmT",
        "outputId": "9b14ab77-3f85-4f20-d840-19f6758d6de9"
      },
      "execution_count": null,
      "outputs": [
        {
          "output_type": "stream",
          "name": "stdout",
          "text": [
            "Enter the number of terms: 5\n",
            "Fibonacci sequence:\n",
            "0 1 1 2 3 "
          ]
        }
      ]
    },
    {
      "cell_type": "code",
      "source": [
        "#7. How memory is managed in Python?\n",
        "import gc\n",
        "print(gc.isenabled())\n",
        "gc.collect()\n",
        "\n",
        "a = [1,2,3,4,5]\n",
        "b = a\n",
        "del a\n",
        "print(b)"
      ],
      "metadata": {
        "colab": {
          "base_uri": "https://localhost:8080/"
        },
        "id": "bMzgWBl1zVn9",
        "outputId": "49b38f85-57a6-48b3-8c2a-d8860651fea6"
      },
      "execution_count": null,
      "outputs": [
        {
          "output_type": "stream",
          "name": "stdout",
          "text": [
            "True\n",
            "[1, 2, 3, 4, 5]\n"
          ]
        }
      ]
    },
    {
      "cell_type": "code",
      "source": [
        "#8. What is the purpose continuing statement in python?\n",
        "#The continue statement is used inside loops (like for or while) to skip the current iteration and move to the next iteration of the loop.\n",
        "#To skip part of the loop when a certain condition is met, and continue with the next cycle without exiting the loop.\n"
      ],
      "metadata": {
        "id": "ELcv-309zVpj"
      },
      "execution_count": null,
      "outputs": []
    },
    {
      "cell_type": "code",
      "source": [
        "#9. Write python program that swap two number with temp variable and\n",
        "\n",
        "a = int(input(\"Enter first number (a): \"))\n",
        "b = int(input(\"Enter second number (b): \"))\n",
        "temp = a\n",
        "a = b\n",
        "b = temp\n",
        "\n",
        "print(\"After swapping:\")\n",
        "print(\"a =\", a)\n",
        "print(\"b =\", b)\n"
      ],
      "metadata": {
        "colab": {
          "base_uri": "https://localhost:8080/"
        },
        "id": "Q6dPbHo-5D5C",
        "outputId": "ccf7a51c-e538-4f73-e11f-aa04faeccf5c"
      },
      "execution_count": null,
      "outputs": [
        {
          "output_type": "stream",
          "name": "stdout",
          "text": [
            "Enter first number (a): 5\n",
            "Enter second number (b): 5\n",
            "After swapping:\n",
            "a = 5\n",
            "b = 5\n"
          ]
        }
      ]
    },
    {
      "cell_type": "code",
      "source": [
        "#9.Write python program that swap two number without temp variable.\n",
        "a = int(input(\"Enter first number (a): \"))\n",
        "b = int(input(\"Enter second number (b): \"))\n",
        "\n",
        "a, b = b, a\n",
        "\n",
        "print(\"After swapping:\")\n",
        "print(\"a =\", a)\n",
        "print(\"b =\", b)\n"
      ],
      "metadata": {
        "colab": {
          "base_uri": "https://localhost:8080/"
        },
        "id": "rs9MpLrM5D1V",
        "outputId": "75832794-9449-45e0-a2f7-ab105e069bc1"
      },
      "execution_count": null,
      "outputs": [
        {
          "output_type": "stream",
          "name": "stdout",
          "text": [
            "Enter first number (a): 5\n",
            "Enter second number (b): 5\n",
            "After swapping:\n",
            "a = 5\n",
            "b = 5\n"
          ]
        }
      ]
    },
    {
      "cell_type": "code",
      "source": [
        "#10. Write a Python program to find whether a given number is even or odd, print out an appropriate message to the user.\n",
        "# Program to check if a number is even or odd\n",
        "\n",
        "x = int(input(\"Enter a number: \"))\n",
        "if x % 2 == 0:\n",
        "    print(f\"{x} is an Even number.\")\n",
        "else:\n",
        "    print(f\"{x} is an Odd number.\")\n"
      ],
      "metadata": {
        "colab": {
          "base_uri": "https://localhost:8080/"
        },
        "id": "euBOBuBz5DzC",
        "outputId": "0f712e32-4271-412b-f611-472fdcf2c2ab"
      },
      "execution_count": null,
      "outputs": [
        {
          "output_type": "stream",
          "name": "stdout",
          "text": [
            "Enter a number: 5\n",
            "5 is an Odd number.\n"
          ]
        }
      ]
    },
    {
      "cell_type": "code",
      "source": [
        "#11. Write a Python program to test whether a passed letter is a vowel or not.\n",
        "letter = input(\"Enter a single letter: \")\n",
        "\n",
        "letter = letter.lower()\n",
        "if len(letter) == 1 and letter.isalpha():\n",
        "    if letter in ['a', 'e', 'i', 'o', 'u']:\n",
        "        print(f\"{letter} is a Vowel.\")\n",
        "    else:\n",
        "        print(f\"{letter} is Not a Vowel.\")\n",
        "else:\n",
        "    print(\"Please enter a single alphabet letter only.\")\n"
      ],
      "metadata": {
        "colab": {
          "base_uri": "https://localhost:8080/"
        },
        "id": "3rFug7dE5Dxa",
        "outputId": "cd060db3-6a7d-4d80-e013-c07198c88a56"
      },
      "execution_count": null,
      "outputs": [
        {
          "output_type": "stream",
          "name": "stdout",
          "text": [
            "Enter a single letter: a\n",
            "a is a Vowel.\n"
          ]
        }
      ]
    },
    {
      "cell_type": "code",
      "source": [
        "#12. Write a Python program to sum of three given integers. However, if two values are equal sum will be zero.\n",
        "\n",
        "a = int(input(\"Enter first number: \"))\n",
        "b = int(input(\"Enter second number: \"))\n",
        "c = int(input(\"Enter third number: \"))\n",
        "if a == b or b == c or a == c:\n",
        "    print(\"Two values are equal. Sum is 0.\")\n",
        "    sum = 0\n",
        "else:\n",
        "    sum = a + b + c\n",
        "    print(\"Sum of three different numbers is:\", sum)\n"
      ],
      "metadata": {
        "colab": {
          "base_uri": "https://localhost:8080/"
        },
        "id": "UXIBsHoC5Dvk",
        "outputId": "543bdcb6-57e5-497b-d13f-cf5fe8970877"
      },
      "execution_count": null,
      "outputs": [
        {
          "output_type": "stream",
          "name": "stdout",
          "text": [
            "Enter first number: 5\n",
            "Enter second number: 7\n",
            "Enter third number: 5\n",
            "Two values are equal. Sum is 0.\n"
          ]
        }
      ]
    },
    {
      "cell_type": "code",
      "source": [
        "#13. Write a Python program that will return true if the two given integer values are equal or their sum or difference is 5.\n",
        "def check_numbers(a, b):\n",
        "    if a == b or (a + b == 5) or (abs(a - b) == 5):\n",
        "        return True\n",
        "    else:\n",
        "        return False\n",
        "\n",
        "a = int(input(\"Enter first number: \"))\n",
        "b = int(input(\"Enter second number: \"))\n",
        "print(\"Result:\", check_numbers(a, b))"
      ],
      "metadata": {
        "colab": {
          "base_uri": "https://localhost:8080/"
        },
        "id": "i3MEmaOd5Dr_",
        "outputId": "bef1cf9e-f982-4234-c0b1-e9b09359794d"
      },
      "execution_count": null,
      "outputs": [
        {
          "output_type": "stream",
          "name": "stdout",
          "text": [
            "Enter first number: 5\n",
            "Enter second number: 7\n",
            "Result: False\n"
          ]
        }
      ]
    },
    {
      "cell_type": "code",
      "source": [
        "#14. Write a python program to sum of the first n positive integers.\n",
        "n = int(input(\"Enter a positive integer: \"))\n",
        "\n",
        "if n > 0:\n",
        "    total = 0\n",
        "    for i in range(1, n + 1):\n",
        "        total += i\n",
        "\n",
        "    print(f\"The sum of the first {n} positive integers is: {total}\")\n",
        "else:\n",
        "    print(\"Please enter a positive number greater than 0.\")\n"
      ],
      "metadata": {
        "colab": {
          "base_uri": "https://localhost:8080/"
        },
        "id": "LC6zUqgT5Doh",
        "outputId": "da9a8445-4ea8-4944-c221-b3e5781f6728"
      },
      "execution_count": null,
      "outputs": [
        {
          "output_type": "stream",
          "name": "stdout",
          "text": [
            "Enter a positive integer: 5\n",
            "The sum of the first 5 positive integers is: 15\n"
          ]
        }
      ]
    },
    {
      "cell_type": "code",
      "source": [
        "#15. Write a Python program to calculate the length of a string.\n",
        "user_string = input(\"Enter a string: \")\n",
        "length = len(user_string)\n",
        "print(\"The length of the string is:\", length)"
      ],
      "metadata": {
        "colab": {
          "base_uri": "https://localhost:8080/"
        },
        "id": "SwcCn9fI5DmQ",
        "outputId": "6a7cd0b5-d92d-4a35-fbb3-1bc9cb4b0f7f"
      },
      "execution_count": null,
      "outputs": [
        {
          "output_type": "stream",
          "name": "stdout",
          "text": [
            "Enter a string: Hello World\n",
            "The length of the string is: 11\n"
          ]
        }
      ]
    },
    {
      "cell_type": "code",
      "source": [
        "#16. Write a Python program to count the number of characters (character frequency) in a string\n",
        "text = input(\"Enter a string: \")\n",
        "\n",
        "char_freq = {}\n",
        "\n",
        "for char in text:\n",
        "    if char in char_freq:\n",
        "        char_freq[char] += 1\n",
        "    else:\n",
        "        char_freq[char] = 1\n",
        "\n",
        "print(\"Character frequency:\")\n",
        "for char, freq in char_freq.items():\n",
        "    print(f\"'{char}': {freq}\")"
      ],
      "metadata": {
        "colab": {
          "base_uri": "https://localhost:8080/"
        },
        "id": "ZbTY2LIG5Dkg",
        "outputId": "e8029f1a-29f5-48cc-ee93-14103eabca62"
      },
      "execution_count": null,
      "outputs": [
        {
          "output_type": "stream",
          "name": "stdout",
          "text": [
            "Enter a string: Hello\n",
            "Character frequency:\n",
            "'H': 1\n",
            "'e': 1\n",
            "'l': 2\n",
            "'o': 1\n"
          ]
        }
      ]
    },
    {
      "cell_type": "code",
      "source": [
        "#17. What are negative indexes and why are they used?\n",
        "fruits = ['apple', 'banana', 'cherry', 'date']\n",
        "\n",
        "print(fruits[-1])\n",
        "print(fruits[-2])"
      ],
      "metadata": {
        "colab": {
          "base_uri": "https://localhost:8080/"
        },
        "id": "ryhQUaA85Dix",
        "outputId": "33558f8a-9dfe-468b-9d5b-358ac4fc024d"
      },
      "execution_count": null,
      "outputs": [
        {
          "output_type": "stream",
          "name": "stdout",
          "text": [
            "date\n",
            "cherry\n"
          ]
        }
      ]
    },
    {
      "cell_type": "code",
      "source": [
        "#18. Write a Python program to count occurrences of a substring in a string.\n",
        "main_string = input(\"Enter the main string: \")\n",
        "substring = input(\"Enter the substring to count: \")\n",
        "count = main_string.count(substring)\n",
        "print(f\"The substring '{substring}' appears {count} times in the string.\")"
      ],
      "metadata": {
        "colab": {
          "base_uri": "https://localhost:8080/"
        },
        "id": "0cg2zS835DgU",
        "outputId": "1b8a5ebe-3c2c-4598-8bcb-610444167394"
      },
      "execution_count": null,
      "outputs": [
        {
          "output_type": "stream",
          "name": "stdout",
          "text": [
            "Enter the main string: Hello World,Hello Again\n",
            "Enter the substring to count: Hello\n",
            "The substring 'Hello' appears 2 times in the string.\n"
          ]
        }
      ]
    },
    {
      "cell_type": "code",
      "source": [
        "#19. Write a Python program to count the occurrences of each word in a given sentance?\n",
        "sentence = input(\"Enter a sentence: \")\n",
        "sentence = sentence.lower()\n",
        "words = sentence.split()\n",
        "word_count = {}\n",
        "\n",
        "for word in words:\n",
        "    if word in word_count:\n",
        "        word_count[word] += 1\n",
        "    else:\n",
        "        word_count[word] = 1\n",
        "\n",
        "print(\"Word frequencies:\")\n",
        "for word, count in word_count.items():\n",
        "    print(f\"'{word}': {count}\")\n"
      ],
      "metadata": {
        "colab": {
          "base_uri": "https://localhost:8080/"
        },
        "id": "88imwUR-5DeH",
        "outputId": "e5f9d8d0-63cd-4134-ef11-81265281e34b"
      },
      "execution_count": null,
      "outputs": [
        {
          "output_type": "stream",
          "name": "stdout",
          "text": [
            "Enter a sentence: this is yusuf , this is only yusuf\n",
            "Word frequencies:\n",
            "'this': 2\n",
            "'is': 2\n",
            "'yusuf': 2\n",
            "',': 1\n",
            "'only': 1\n"
          ]
        }
      ]
    },
    {
      "cell_type": "code",
      "source": [
        "#20.Write a Python program to get a single string from two given strings, separated by a space and swap the first two characters of each string.\n",
        "str1 = input(\"Enter first string: \")\n",
        "str2 = input(\"Enter second string: \")\n",
        "\n",
        "if len(str1) >= 2 and len(str2) >= 2:\n",
        "    # Swap first two characters\n",
        "    new_str1 = str2[:2] + str1[2:]\n",
        "    new_str2 = str1[:2] + str2[2:]\n",
        "    result = new_str1 + \" \" + new_str2\n",
        "    print(\"Result:\", result)\n",
        "else:\n",
        "    print(\"Both strings should have at least two characters.\")\n"
      ],
      "metadata": {
        "colab": {
          "base_uri": "https://localhost:8080/"
        },
        "id": "pugsKAmI5DbK",
        "outputId": "8360c668-f150-4e41-9ff7-cbce5ac05ce2"
      },
      "execution_count": null,
      "outputs": [
        {
          "output_type": "stream",
          "name": "stdout",
          "text": [
            "Enter first string: Hello\n",
            "Enter second string: World\n",
            "Result: Wollo Herld\n"
          ]
        }
      ]
    },
    {
      "cell_type": "code",
      "source": [
        "#21. Write a Python program to add 'in' at the end of a given string (length should be at least 3). If the given string already ends with 'ing' then add 'ly' instead if the string length of the given string is less than 3, leave it unchanged.\n",
        "word = input(\"Enter a word: \")\n",
        "\n",
        "if len(word) < 3:\n",
        "    result = word\n",
        "elif word.endswith('ing'):\n",
        "    result = word + 'ly'\n",
        "else:\n",
        "    result = word + 'ing'\n",
        "print(\"Modified word:\", result)"
      ],
      "metadata": {
        "colab": {
          "base_uri": "https://localhost:8080/"
        },
        "id": "nLkCT4kR_DVu",
        "outputId": "8aee4b5c-ac9f-441c-9a81-309066bdad22"
      },
      "execution_count": null,
      "outputs": [
        {
          "output_type": "stream",
          "name": "stdout",
          "text": [
            "Enter a word: Read\n",
            "Modified word: Reading\n"
          ]
        }
      ]
    },
    {
      "cell_type": "code",
      "source": [
        "#22. Write a Python function to reverses a string if its length is a multiple of 4.\n",
        "def reverse_if_multiple_of_4(text):\n",
        "    if len(text) % 4 == 0:\n",
        "        return text[::-1]\n",
        "    else:\n",
        "        return text\n",
        "input_str = input(\"Enter a string: \")\n",
        "result = reverse_if_multiple_of_4(input_str)\n",
        "print(\"Result:\", result)"
      ],
      "metadata": {
        "colab": {
          "base_uri": "https://localhost:8080/"
        },
        "id": "3_3cs7GL_Djv",
        "outputId": "9fb17f1b-7be2-4265-b25e-2aae75b76da1"
      },
      "execution_count": null,
      "outputs": [
        {
          "output_type": "stream",
          "name": "stdout",
          "text": [
            "Enter a string: text\n",
            "Result: txet\n"
          ]
        }
      ]
    },
    {
      "cell_type": "code",
      "source": [
        "#23.Write a Python program to get a string made of the first 2 and the last 2 chars from a given a string. If the string length is less than 2, return instead of the empty string.\n",
        "text = input(\"Enter a string: \")\n",
        "if len(text) < 2:\n",
        "    result = \"\"\n",
        "else:\n",
        "    result = text[:2] + text[-2:]\n",
        "\n",
        "print(\"Result:\", result)"
      ],
      "metadata": {
        "colab": {
          "base_uri": "https://localhost:8080/"
        },
        "id": "kT7FkGiI_Dml",
        "outputId": "7fb7c3a2-c284-4d2d-ab5e-e536f1d748cf"
      },
      "execution_count": null,
      "outputs": [
        {
          "output_type": "stream",
          "name": "stdout",
          "text": [
            "Enter a string: Python\n",
            "Result: Pyon\n"
          ]
        }
      ]
    },
    {
      "cell_type": "code",
      "source": [
        "#24. Write a Python function to insert a string in the middle of a string.\n",
        "def insert_middle(original, insert):\n",
        "    mid = len(original) // 2\n",
        "    result = original[:mid] + insert + original[mid:]\n",
        "    return result\n",
        "\n",
        "str1 = input(\"Enter the original string: \")\n",
        "str2 = input(\"Enter the string to insert: \")\n",
        "\n",
        "result = insert_middle(str1, str2)\n",
        "print(\"Result:\", result)"
      ],
      "metadata": {
        "colab": {
          "base_uri": "https://localhost:8080/"
        },
        "id": "0iwhDGCD_Dpg",
        "outputId": "c18939e7-b5b7-4372-bc42-26bfd77c005c"
      },
      "execution_count": null,
      "outputs": [
        {
          "output_type": "stream",
          "name": "stdout",
          "text": [
            "Enter the original string: KhanKhan\n",
            "Enter the string to insert: Yusuf\n",
            "Result: KhanYusufKhan\n"
          ]
        }
      ]
    },
    {
      "cell_type": "code",
      "source": [
        "#25.What is List? How will you reverse a list?\n",
        "my_list = [10, 20, 30, 40, 50]\n",
        "print(my_list[0])\n",
        "\n",
        "my_list.reverse()\n",
        "print(my_list)"
      ],
      "metadata": {
        "colab": {
          "base_uri": "https://localhost:8080/"
        },
        "id": "noidTsji_Dry",
        "outputId": "0fb685aa-7db4-4387-8fc0-a7bc6bcd79de"
      },
      "execution_count": null,
      "outputs": [
        {
          "output_type": "stream",
          "name": "stdout",
          "text": [
            "10\n",
            "[50, 40, 30, 20, 10]\n"
          ]
        }
      ]
    },
    {
      "cell_type": "code",
      "source": [
        "#26.How will you remove last object from a list?\n",
        "my_list = [10, 20, 30, 40]\n",
        "my_list.pop()\n",
        "print(my_list)"
      ],
      "metadata": {
        "colab": {
          "base_uri": "https://localhost:8080/"
        },
        "id": "2D2r86KY_Du4",
        "outputId": "f269cf66-a2e3-4998-d56f-282835ec641a"
      },
      "execution_count": null,
      "outputs": [
        {
          "output_type": "stream",
          "name": "stdout",
          "text": [
            "[10, 20, 30]\n"
          ]
        }
      ]
    },
    {
      "cell_type": "code",
      "source": [
        "#27.Suppose list1 is [2, 33, 222, 14, and 25], what is list1 [-1]?\n",
        "list1 = [2, 33, 222, 14, 25]\n",
        "list1[-1]"
      ],
      "metadata": {
        "colab": {
          "base_uri": "https://localhost:8080/"
        },
        "id": "CZczVedG_DxK",
        "outputId": "9019535f-5fec-4e86-85eb-4bbce67c986a"
      },
      "execution_count": null,
      "outputs": [
        {
          "output_type": "execute_result",
          "data": {
            "text/plain": [
              "25"
            ]
          },
          "metadata": {},
          "execution_count": 222
        }
      ]
    },
    {
      "cell_type": "code",
      "source": [
        "#28.Differentiate between append () and extend () methods?\n",
        "#append\n",
        "list1 = [1, 2, 3]\n",
        "list1.append([4, 5])\n",
        "print(list1)\n",
        "#Extend\n",
        "list2 = [1, 2, 3]\n",
        "list2.extend([4, 5])\n",
        "print(list2)"
      ],
      "metadata": {
        "colab": {
          "base_uri": "https://localhost:8080/"
        },
        "id": "omYs2oGw_D0g",
        "outputId": "2a91c97f-496b-47dd-bbe1-c9b6fc862bb3"
      },
      "execution_count": null,
      "outputs": [
        {
          "output_type": "stream",
          "name": "stdout",
          "text": [
            "[1, 2, 3, [4, 5]]\n",
            "[1, 2, 3, 4, 5]\n"
          ]
        }
      ]
    },
    {
      "cell_type": "code",
      "source": [
        "#29.Write a Python function to get the largest number, smallest num and sum of all from a list.\n",
        "def analyze_list(numbers):\n",
        "    if not numbers:\n",
        "        return \"List is empty.\"\n",
        "\n",
        "    largest = max(numbers)\n",
        "    smallest = min(numbers)\n",
        "    total_sum = sum(numbers)\n",
        "\n",
        "    return f\"Largest: {largest}, Smallest: {smallest}, Sum: {total_sum}\"\n",
        "\n",
        "my_list = [5, 12, 7, 3, 18, 9]\n",
        "result = analyze_list(my_list)\n",
        "print(result)"
      ],
      "metadata": {
        "colab": {
          "base_uri": "https://localhost:8080/",
          "height": 315
        },
        "id": "Hl51YNn2_D2w",
        "outputId": "fc69b867-2a31-4ee5-a88c-d7209d9076fa"
      },
      "execution_count": null,
      "outputs": [
        {
          "output_type": "error",
          "ename": "TypeError",
          "evalue": "'int' object is not callable",
          "traceback": [
            "\u001b[0;31m---------------------------------------------------------------------------\u001b[0m",
            "\u001b[0;31mTypeError\u001b[0m                                 Traceback (most recent call last)",
            "\u001b[0;32m/tmp/ipython-input-227-735032917.py\u001b[0m in \u001b[0;36m<cell line: 0>\u001b[0;34m()\u001b[0m\n\u001b[1;32m     11\u001b[0m \u001b[0;34m\u001b[0m\u001b[0m\n\u001b[1;32m     12\u001b[0m \u001b[0mmy_list\u001b[0m \u001b[0;34m=\u001b[0m \u001b[0;34m[\u001b[0m\u001b[0;36m5\u001b[0m\u001b[0;34m,\u001b[0m \u001b[0;36m12\u001b[0m\u001b[0;34m,\u001b[0m \u001b[0;36m7\u001b[0m\u001b[0;34m,\u001b[0m \u001b[0;36m3\u001b[0m\u001b[0;34m,\u001b[0m \u001b[0;36m18\u001b[0m\u001b[0;34m,\u001b[0m \u001b[0;36m9\u001b[0m\u001b[0;34m]\u001b[0m\u001b[0;34m\u001b[0m\u001b[0;34m\u001b[0m\u001b[0m\n\u001b[0;32m---> 13\u001b[0;31m \u001b[0mresult\u001b[0m \u001b[0;34m=\u001b[0m \u001b[0manalyze_list\u001b[0m\u001b[0;34m(\u001b[0m\u001b[0mmy_list\u001b[0m\u001b[0;34m)\u001b[0m\u001b[0;34m\u001b[0m\u001b[0;34m\u001b[0m\u001b[0m\n\u001b[0m\u001b[1;32m     14\u001b[0m \u001b[0mprint\u001b[0m\u001b[0;34m(\u001b[0m\u001b[0mresult\u001b[0m\u001b[0;34m)\u001b[0m\u001b[0;34m\u001b[0m\u001b[0;34m\u001b[0m\u001b[0m\n",
            "\u001b[0;32m/tmp/ipython-input-227-735032917.py\u001b[0m in \u001b[0;36manalyze_list\u001b[0;34m(numbers)\u001b[0m\n\u001b[1;32m      6\u001b[0m     \u001b[0mlargest\u001b[0m \u001b[0;34m=\u001b[0m \u001b[0mmax\u001b[0m\u001b[0;34m(\u001b[0m\u001b[0mnumbers\u001b[0m\u001b[0;34m)\u001b[0m\u001b[0;34m\u001b[0m\u001b[0;34m\u001b[0m\u001b[0m\n\u001b[1;32m      7\u001b[0m     \u001b[0msmallest\u001b[0m \u001b[0;34m=\u001b[0m \u001b[0mmin\u001b[0m\u001b[0;34m(\u001b[0m\u001b[0mnumbers\u001b[0m\u001b[0;34m)\u001b[0m\u001b[0;34m\u001b[0m\u001b[0;34m\u001b[0m\u001b[0m\n\u001b[0;32m----> 8\u001b[0;31m     \u001b[0mtotal_sum\u001b[0m \u001b[0;34m=\u001b[0m \u001b[0msum\u001b[0m\u001b[0;34m(\u001b[0m\u001b[0mnumbers\u001b[0m\u001b[0;34m)\u001b[0m\u001b[0;34m\u001b[0m\u001b[0;34m\u001b[0m\u001b[0m\n\u001b[0m\u001b[1;32m      9\u001b[0m \u001b[0;34m\u001b[0m\u001b[0m\n\u001b[1;32m     10\u001b[0m     \u001b[0;32mreturn\u001b[0m \u001b[0;34mf\"Largest: {largest}, Smallest: {smallest}, Sum: {total_sum}\"\u001b[0m\u001b[0;34m\u001b[0m\u001b[0;34m\u001b[0m\u001b[0m\n",
            "\u001b[0;31mTypeError\u001b[0m: 'int' object is not callable"
          ]
        }
      ]
    },
    {
      "cell_type": "code",
      "source": [
        "#30.How will you compare two lists?\n",
        "list1 = [1, 2, 3]\n",
        "list2 = [1, 2, 3]\n",
        "\n",
        "print(list1 == list2)"
      ],
      "metadata": {
        "colab": {
          "base_uri": "https://localhost:8080/"
        },
        "id": "4WGH2qWs_D6D",
        "outputId": "62c72390-10a2-423f-edc7-7939e79af8e3"
      },
      "execution_count": null,
      "outputs": [
        {
          "output_type": "stream",
          "name": "stdout",
          "text": [
            "True\n"
          ]
        }
      ]
    },
    {
      "cell_type": "code",
      "source": [
        "#31.Write a Python program to count the number of strings where the string length is 2 or more and the first and last character are same from a given list of strings.\n",
        "def count_matching_strings(strings):\n",
        "    count = 0\n",
        "    for s in strings:\n",
        "        if len(s) >= 2 and s[0] == s[-1]:\n",
        "            count += 1\n",
        "    return count\n",
        "string_list = ['abc', 'xyz', 'aba', '1221', 'aa', 'a', 'madam']\n",
        "\n",
        "result = count_matching_strings(string_list)\n",
        "print(\"Number of matching strings:\", result)"
      ],
      "metadata": {
        "id": "0Z0MJrDyDoLZ",
        "colab": {
          "base_uri": "https://localhost:8080/"
        },
        "outputId": "64f635c3-56e9-44d3-d858-e3288b3580af"
      },
      "execution_count": null,
      "outputs": [
        {
          "output_type": "stream",
          "name": "stdout",
          "text": [
            "Number of matching strings: 4\n"
          ]
        }
      ]
    },
    {
      "cell_type": "code",
      "source": [
        "#32.Write a Python program to remove duplicates from a list.\n",
        "def remove_duplicates(input_list):\n",
        "    return list(set(input_list))\n",
        "my_list = [1, 2, 2, 3, 4, 4, 5, 1]\n",
        "result = remove_duplicates(my_list)\n",
        "print(\"List after removing duplicates:\", result)"
      ],
      "metadata": {
        "id": "roHQn8V1DoOd",
        "colab": {
          "base_uri": "https://localhost:8080/"
        },
        "outputId": "44356afc-ac76-4f4d-8275-6322ba133bc8"
      },
      "execution_count": null,
      "outputs": [
        {
          "output_type": "stream",
          "name": "stdout",
          "text": [
            "List after removing duplicates: [1, 2, 3, 4, 5]\n"
          ]
        }
      ]
    },
    {
      "cell_type": "code",
      "source": [
        "#33.Write a Python program to check a list is empty or not.\n",
        "def check_list_empty(input_list):\n",
        "    if not input_list:\n",
        "        print(\"The list is empty.\")\n",
        "    else:\n",
        "        print(\"The list is not empty.\")\n",
        "\n",
        "my_list = []\n",
        "check_list_empty(my_list)"
      ],
      "metadata": {
        "id": "t3f1IjsbDoRA",
        "colab": {
          "base_uri": "https://localhost:8080/"
        },
        "outputId": "8bd0c53a-b22f-4ad0-c1c9-0770394623d9"
      },
      "execution_count": null,
      "outputs": [
        {
          "output_type": "stream",
          "name": "stdout",
          "text": [
            "The list is empty.\n"
          ]
        }
      ]
    },
    {
      "cell_type": "code",
      "source": [
        "#34. Write a Python function that takes two lists and returns true if they have at least one common member.\n",
        "def have_common_member(list1, list2):\n",
        "    for item in list1:\n",
        "        if item in list2:\n",
        "            return True\n",
        "    return False\n",
        "a = [1, 2, 3, 4]\n",
        "b = [5, 6, 3, 8]\n",
        "print(have_common_member(a, b))"
      ],
      "metadata": {
        "id": "vGj97S3iDoS_",
        "colab": {
          "base_uri": "https://localhost:8080/"
        },
        "outputId": "e90241f5-80c7-4ea2-b8d3-7238e7aa9816"
      },
      "execution_count": null,
      "outputs": [
        {
          "output_type": "stream",
          "name": "stdout",
          "text": [
            "True\n"
          ]
        }
      ]
    },
    {
      "cell_type": "code",
      "source": [
        "#35.Write a Python program to generate and print a list of first and last 5 elements where the values are square of numbers between 1 and 30.\n",
        "\n",
        "squares = [x**2 for x in range(1, 31)]\n",
        "print(\"First 5 elements:\", squares[:5])\n",
        "print(\"Last 5 elements:\", squares[-5:])"
      ],
      "metadata": {
        "id": "um45Fl3eDoVX",
        "colab": {
          "base_uri": "https://localhost:8080/"
        },
        "outputId": "3f418501-1970-4a10-f594-7d94199a72dc"
      },
      "execution_count": null,
      "outputs": [
        {
          "output_type": "stream",
          "name": "stdout",
          "text": [
            "First 5 elements: [1, 4, 9, 16, 25]\n",
            "Last 5 elements: [676, 729, 784, 841, 900]\n"
          ]
        }
      ]
    },
    {
      "cell_type": "code",
      "source": [
        "#36.Write a Python function that takes a list and returns a new list with unique elements of the first list.\n",
        "def unique_elements(input_list):\n",
        "    return list(set(input_list))\n",
        "my_list = [1, 2, 2, 3, 4, 4, 5]\n",
        "print(unique_elements(my_list))"
      ],
      "metadata": {
        "id": "sTVCJ9DZDoX3",
        "colab": {
          "base_uri": "https://localhost:8080/"
        },
        "outputId": "0d0b908e-21f2-4c5d-e72c-1a334e1b4f55"
      },
      "execution_count": null,
      "outputs": [
        {
          "output_type": "stream",
          "name": "stdout",
          "text": [
            "[1, 2, 3, 4, 5]\n"
          ]
        }
      ]
    },
    {
      "cell_type": "code",
      "source": [
        "#37.Write a Python program to convert a list of characters into a string.\n",
        "def list_to_string(char_list):\n",
        "    return ''.join(char_list)\n",
        "chars = ['H', 'e', 'l', 'l', 'o']\n",
        "result = list_to_string(chars)\n",
        "print(result)"
      ],
      "metadata": {
        "id": "3Np0B-ixDoaG",
        "colab": {
          "base_uri": "https://localhost:8080/"
        },
        "outputId": "730e923b-41c5-4247-944b-994112521b34"
      },
      "execution_count": null,
      "outputs": [
        {
          "output_type": "stream",
          "name": "stdout",
          "text": [
            "Hello\n"
          ]
        }
      ]
    },
    {
      "cell_type": "code",
      "source": [
        "#38.Write a Python program to select an item randomly from a list.\n",
        "import random\n",
        "\n",
        "def select_random_item(my_list):\n",
        "    return random.choice(my_list)\n",
        "items = ['apple', 'banana', 'cherry', 'date', 'elderberry']\n",
        "random_item = select_random_item(items)\n",
        "print(\"Randomly selected item:\", random_item)"
      ],
      "metadata": {
        "id": "SRowVr0pDocg",
        "colab": {
          "base_uri": "https://localhost:8080/"
        },
        "outputId": "bd6f13a6-db40-4a2f-89c0-711ff6266e5f"
      },
      "execution_count": null,
      "outputs": [
        {
          "output_type": "stream",
          "name": "stdout",
          "text": [
            "Randomly selected item: apple\n"
          ]
        }
      ]
    },
    {
      "cell_type": "code",
      "source": [
        "#39.Write a Python program to find the second smallest number in a list.\n",
        "def second_smallest(numbers):\n",
        "    unique_numbers = list(set(numbers))\n",
        "    if len(unique_numbers) < 2:\n",
        "        return None\n",
        "    unique_numbers.sort()\n",
        "    return unique_numbers[1]\n",
        "my_list = [4, 1, 7, 1, 3, 9]\n",
        "print(\"Second smallest number:\", second_smallest(my_list))"
      ],
      "metadata": {
        "id": "t8eIP0j8Doeo",
        "colab": {
          "base_uri": "https://localhost:8080/"
        },
        "outputId": "cc4c566d-bac9-4a66-cf0c-bd8572035ed0"
      },
      "execution_count": null,
      "outputs": [
        {
          "output_type": "stream",
          "name": "stdout",
          "text": [
            "Second smallest number: 3\n"
          ]
        }
      ]
    },
    {
      "cell_type": "code",
      "source": [
        "#40.Write a Python program to get unique values from a list\n",
        "def get_unique_values(my_list):\n",
        "    return list(set(my_list))\n",
        "numbers = [1, 2, 2, 3, 4, 4, 5]\n",
        "unique = get_unique_values(numbers)\n",
        "print(\"Unique values:\", unique)"
      ],
      "metadata": {
        "id": "1ieYuMjHDohG",
        "colab": {
          "base_uri": "https://localhost:8080/"
        },
        "outputId": "2866f8ed-bb69-4c38-d399-43388c987ec3"
      },
      "execution_count": null,
      "outputs": [
        {
          "output_type": "stream",
          "name": "stdout",
          "text": [
            "Unique values: [1, 2, 3, 4, 5]\n"
          ]
        }
      ]
    },
    {
      "cell_type": "code",
      "source": [
        "#41.Write a Python program to check whether a list contains a sub list\n",
        "def contains_sublist(main_list, sub_list):\n",
        "    sub_len = len(sub_list)\n",
        "    for i in range(len(main_list) - sub_len + 1):\n",
        "        if main_list[i:i + sub_len] == sub_list:\n",
        "            return True\n",
        "    return False\n",
        "main = [1, 2, 3, 4, 5]\n",
        "sub = [3, 4]\n",
        "\n",
        "result = contains_sublist(main, sub)\n",
        "print(\"Sublist found?\" , result)"
      ],
      "metadata": {
        "colab": {
          "base_uri": "https://localhost:8080/"
        },
        "id": "-T9MeYH97QOC",
        "outputId": "2fd4a647-8814-45ab-8ce4-0d691fb7edf8"
      },
      "execution_count": null,
      "outputs": [
        {
          "output_type": "stream",
          "name": "stdout",
          "text": [
            "Sublist found? True\n"
          ]
        }
      ]
    },
    {
      "cell_type": "code",
      "source": [
        "#42.Write a Python program to split a list into different variables.\n",
        "my_list = [10, 20, 30]\n",
        "\n",
        "a, b, c = my_list\n",
        "\n",
        "print(\"a =\", a)\n",
        "print(\"b =\", b)\n",
        "print(\"c =\", c)"
      ],
      "metadata": {
        "colab": {
          "base_uri": "https://localhost:8080/"
        },
        "id": "P5ujanro7QSY",
        "outputId": "12c6aea4-4309-4a96-bca1-af96563e1802"
      },
      "execution_count": null,
      "outputs": [
        {
          "output_type": "stream",
          "name": "stdout",
          "text": [
            "a = 10\n",
            "b = 20\n",
            "c = 30\n"
          ]
        }
      ]
    },
    {
      "cell_type": "code",
      "source": [
        "#43.What is tuple? Difference between list and tuple.\n",
        "#Answer:A tuple is an ordered, immutable collection of elements.\n",
        "#It can hold multiple data types like integers, strings, lists, etc.\n",
        "\n",
        "#Syntax\t = my_list = [1, 2, 3] , \tmy_tuple = (1, 2, 3)\n",
        "#Mutable = list: can be changed\t, Tuple : cannot be changed\n",
        "#Methods = \tList: More methods (append, etc.), Tuple:\tFewer methods\n",
        "#Performance = List: Slower\t, Tuple: Faster (due to immutability)\n",
        "#Use case = List:\tWhen data may change , Tuple:\tWhen data should stay fixed\n",
        "#Memory\t= List : Uses more memory , Tuple : \tUses less memory\n",
        "my_tuple = (1, 2, 3)\n",
        "print(my_tuple)"
      ],
      "metadata": {
        "colab": {
          "base_uri": "https://localhost:8080/"
        },
        "id": "8aoIPHDG7QWi",
        "outputId": "7d05f7a7-1128-4265-92a2-4039508f44fc"
      },
      "execution_count": null,
      "outputs": [
        {
          "output_type": "stream",
          "name": "stdout",
          "text": [
            "(1, 2, 3)\n"
          ]
        }
      ]
    },
    {
      "cell_type": "code",
      "source": [
        "#44. Write a Python program to create a tuple with different data types.\n",
        "\n",
        "my_tuple = (42, \"Hello\", 3.14, True, [1, 2, 3], {'a': 1, 'b': 2})\n",
        "\n",
        "print(\"Tuple with different data types:\")\n",
        "print(my_tuple)"
      ],
      "metadata": {
        "colab": {
          "base_uri": "https://localhost:8080/"
        },
        "id": "Apt20S437QcA",
        "outputId": "86c46e95-0aa0-45a6-ca56-8e7104738b72"
      },
      "execution_count": null,
      "outputs": [
        {
          "output_type": "stream",
          "name": "stdout",
          "text": [
            "Tuple with different data types:\n",
            "(42, 'Hello', 3.14, True, [1, 2, 3], {'a': 1, 'b': 2})\n"
          ]
        }
      ]
    },
    {
      "cell_type": "code",
      "source": [
        "#45.Write a Python program to unzip a list of tuples into individual lists.\n",
        "list_of_tuples = [(\"a\", 1), (\"b\", 2), (\"c\", 3)]\n",
        "\n",
        "list1, list2 = zip(*list_of_tuples)\n",
        "list1 = list(list1)\n",
        "list2 = list(list2)\n",
        "\n",
        "print(\"List 1:\", list1)\n",
        "print(\"List 2:\", list2)"
      ],
      "metadata": {
        "colab": {
          "base_uri": "https://localhost:8080/"
        },
        "id": "KL_TEY8j7QiP",
        "outputId": "e5a00a4c-cbb4-4897-8e5a-1003bffd6a88"
      },
      "execution_count": null,
      "outputs": [
        {
          "output_type": "stream",
          "name": "stdout",
          "text": [
            "List 1: ['a', 'b', 'c']\n",
            "List 2: [1, 2, 3]\n"
          ]
        }
      ]
    },
    {
      "cell_type": "code",
      "source": [
        "#46.Write a Python program to convert a list of tuples into a dictionary.\n",
        "list_of_tuples = [(\"a\", 1), (\"b\", 2), (\"c\", 3)]\n",
        "\n",
        "dictionary = dict(list_of_tuples)\n",
        "print(\"Dictionary:\", dictionary)"
      ],
      "metadata": {
        "colab": {
          "base_uri": "https://localhost:8080/"
        },
        "id": "2Wfaioo97QoO",
        "outputId": "ffa1b3d8-3d11-4824-893f-fe6abd131174"
      },
      "execution_count": null,
      "outputs": [
        {
          "output_type": "stream",
          "name": "stdout",
          "text": [
            "Dictionary: {'a': 1, 'b': 2, 'c': 3}\n"
          ]
        }
      ]
    },
    {
      "cell_type": "code",
      "source": [
        "#47.How will you create a dictionary using tuples in python?\n",
        "tuple_list = [(\"name\", \"Alice\"), (\"age\", 25), (\"city\", \"Delhi\")]\n",
        "\n",
        "my_dict = dict(tuple_list)\n",
        "\n",
        "print(my_dict)"
      ],
      "metadata": {
        "colab": {
          "base_uri": "https://localhost:8080/"
        },
        "id": "o_kRzyeo7Qr8",
        "outputId": "65405543-602f-454d-f62e-62e16f90984a"
      },
      "execution_count": null,
      "outputs": [
        {
          "output_type": "stream",
          "name": "stdout",
          "text": [
            "{'name': 'Alice', 'age': 25, 'city': 'Delhi'}\n"
          ]
        }
      ]
    },
    {
      "cell_type": "code",
      "source": [
        "#48.Write a Python script to sort (ascending and descending) a dictionary by value?\n",
        "my_dict = {'apple': 10, 'banana': 5, 'cherry': 20, 'date': 15}\n",
        "asc_sorted = dict(sorted(my_dict.items(), key=lambda item: item[1]))\n",
        "desc_sorted = dict(sorted(my_dict.items(), key=lambda item: item[1], reverse=True))\n",
        "\n",
        "print(\"Ascending Order:\", asc_sorted)\n",
        "print(\"Descending Order:\", desc_sorted)"
      ],
      "metadata": {
        "colab": {
          "base_uri": "https://localhost:8080/"
        },
        "id": "e_rrmsny7QvV",
        "outputId": "a107ad88-8ccc-4d59-d407-dd7d06b716f3"
      },
      "execution_count": null,
      "outputs": [
        {
          "output_type": "stream",
          "name": "stdout",
          "text": [
            "Ascending Order: {'banana': 5, 'apple': 10, 'date': 15, 'cherry': 20}\n",
            "Descending Order: {'cherry': 20, 'date': 15, 'apple': 10, 'banana': 5}\n"
          ]
        }
      ]
    },
    {
      "cell_type": "code",
      "source": [
        "#49.Write a Python script to concatenate following dictionaries to create a new one.\n",
        "dict1 = {'a': 1, 'b': 2}\n",
        "dict2 = {'c': 3, 'd': 4}\n",
        "dict3 = {'e': 5, 'f': 6}\n",
        "\n",
        "new_dict = {}\n",
        "for d in (dict1, dict2, dict3):\n",
        "    new_dict.update(d)\n",
        "\n",
        "print(\"Concatenated Dictionary:\", new_dict)\n",
        "combined_dict = {**dict1, **dict2, **dict3}\n",
        "print(\"Combined Dictionary (Unpacking):\", combined_dict)"
      ],
      "metadata": {
        "colab": {
          "base_uri": "https://localhost:8080/"
        },
        "id": "Cx62NwGo7Q0I",
        "outputId": "fc396baf-90bf-4dfe-de7c-55187f061d2a"
      },
      "execution_count": null,
      "outputs": [
        {
          "output_type": "stream",
          "name": "stdout",
          "text": [
            "Concatenated Dictionary: {'a': 1, 'b': 2, 'c': 3, 'd': 4, 'e': 5, 'f': 6}\n",
            "Combined Dictionary (Unpacking): {'a': 1, 'b': 2, 'c': 3, 'd': 4, 'e': 5, 'f': 6}\n"
          ]
        }
      ]
    },
    {
      "cell_type": "code",
      "source": [
        "#50.Write a Python script to check if a given key already exists in a dictionary.\n",
        "\n",
        "my_dict = {'name': 'Alice', 'age': 25, 'city': 'Delhi'}\n",
        "\n",
        "\n",
        "key_to_check = 'age'\n",
        "\n",
        "if key_to_check in my_dict:\n",
        "    print(f\"Key '{key_to_check}' exists in the dictionary.\")\n",
        "else:\n",
        "    print(f\"Key '{key_to_check}' does NOT exist in the dictionary.\")"
      ],
      "metadata": {
        "colab": {
          "base_uri": "https://localhost:8080/"
        },
        "id": "A6fVFHlv7Q4V",
        "outputId": "9dfa3833-bace-4f91-96fb-839c03148d11"
      },
      "execution_count": null,
      "outputs": [
        {
          "output_type": "stream",
          "name": "stdout",
          "text": [
            "Key 'age' exists in the dictionary.\n"
          ]
        }
      ]
    },
    {
      "cell_type": "code",
      "source": [
        "#51.How Do You Traverse Through a Dictionary Object in Python?\n",
        "my_dict = {'name': 'Alice', 'age': 25, 'city': 'Delhi'}\n",
        "\n",
        "for key in my_dict:\n",
        "    print(\"Key:\", key, \"Value:\", my_dict[key])\n"
      ],
      "metadata": {
        "colab": {
          "base_uri": "https://localhost:8080/"
        },
        "id": "eyX-MIbD7Q8g",
        "outputId": "bc697826-ca55-4c98-b27c-0c208defa047"
      },
      "execution_count": null,
      "outputs": [
        {
          "output_type": "stream",
          "name": "stdout",
          "text": [
            "Key: name Value: Alice\n",
            "Key: age Value: 25\n",
            "Key: city Value: Delhi\n"
          ]
        }
      ]
    },
    {
      "cell_type": "code",
      "source": [
        "#52.How Do You Check the Presence of a Key in A Dictionary?\n",
        "my_dict = {'name': 'Alice', 'age': 25, 'city': 'Delhi'}\n",
        "\n",
        "key = 'age'\n",
        "\n",
        "if key in my_dict:\n",
        "    print(f\"Key '{key}' is present in the dictionary.\")\n",
        "else:\n",
        "    print(f\"Key '{key}' is NOT present in the dictionary.\")"
      ],
      "metadata": {
        "colab": {
          "base_uri": "https://localhost:8080/"
        },
        "id": "cgnU6Eyu7Q_y",
        "outputId": "13c50929-ca9d-418d-ac55-d0d2d93f0c1a"
      },
      "execution_count": null,
      "outputs": [
        {
          "output_type": "stream",
          "name": "stdout",
          "text": [
            "Key 'age' is present in the dictionary.\n"
          ]
        }
      ]
    },
    {
      "cell_type": "code",
      "source": [
        "#53.Write a Python script to print a dictionary where the keys are numbers between 1 and 15.\n",
        "my_dict = {x: x**2 for x in range(1, 16)}\n",
        "print(\"Dictionary with keys from 1 to 15 and squared values:\")\n",
        "print(my_dict)"
      ],
      "metadata": {
        "colab": {
          "base_uri": "https://localhost:8080/"
        },
        "id": "0nOUU7R67RDq",
        "outputId": "4a3d509d-f54b-4ed2-cad7-72031eaaae9d"
      },
      "execution_count": null,
      "outputs": [
        {
          "output_type": "stream",
          "name": "stdout",
          "text": [
            "Dictionary with keys from 1 to 15 and squared values:\n",
            "{1: 1, 2: 4, 3: 9, 4: 16, 5: 25, 6: 36, 7: 49, 8: 64, 9: 81, 10: 100, 11: 121, 12: 144, 13: 169, 14: 196, 15: 225}\n"
          ]
        }
      ]
    },
    {
      "cell_type": "code",
      "source": [
        "#54.Write a Python program to check multiple keys exists in a dictionary\n",
        "my_dict = {'name': 'Alice', 'age': 25, 'city': 'Delhi'}\n",
        "\n",
        "keys_to_check = ['name', 'age']\n",
        "if all(key in my_dict for key in keys_to_check):\n",
        "    print(\"All keys exist in the dictionary.\")\n",
        "else:\n",
        "    print(\"Some keys are missing in the dictionary.\")"
      ],
      "metadata": {
        "colab": {
          "base_uri": "https://localhost:8080/"
        },
        "id": "J_uiJgWk7RHQ",
        "outputId": "eee95204-3bf4-4ef0-9240-41f6e41ca042"
      },
      "execution_count": null,
      "outputs": [
        {
          "output_type": "stream",
          "name": "stdout",
          "text": [
            "All keys exist in the dictionary.\n"
          ]
        }
      ]
    },
    {
      "cell_type": "code",
      "source": [
        "#55. Write a Python script to merge two Python dictionaries\n",
        "dict1 = {'a': 1, 'b': 2}\n",
        "dict2 = {'c': 3, 'd': 4}\n",
        "\n",
        "dict1.update(dict2)\n",
        "\n",
        "print(\"Merged Dictionary:\", dict1)"
      ],
      "metadata": {
        "colab": {
          "base_uri": "https://localhost:8080/"
        },
        "id": "jRxHXy6f7RLL",
        "outputId": "38d89293-e7ee-4d39-957d-9516caed9dfe"
      },
      "execution_count": null,
      "outputs": [
        {
          "output_type": "stream",
          "name": "stdout",
          "text": [
            "Merged Dictionary: {'a': 1, 'b': 2, 'c': 3, 'd': 4}\n"
          ]
        }
      ]
    },
    {
      "cell_type": "code",
      "source": [
        "#56.Write a Python program to map two lists into a dictionary\n",
        "#Sample output: Counter ({'a': 400, 'b': 400,’d’: 400, 'c': 300}).\n",
        "from collections import Counter\n",
        "\n",
        "keys = ['a', 'b', 'c', 'd']\n",
        "values = [400, 400, 300, 400]\n",
        "\n",
        "mapped_dict = dict(zip(keys, values))\n",
        "\n",
        "result = Counter(mapped_dict)\n",
        "\n",
        "print(\"Counter:\", result)"
      ],
      "metadata": {
        "colab": {
          "base_uri": "https://localhost:8080/"
        },
        "id": "59VHsY2S7ROm",
        "outputId": "b773b256-8676-4ebc-8032-234aca1a42c8"
      },
      "execution_count": null,
      "outputs": [
        {
          "output_type": "stream",
          "name": "stdout",
          "text": [
            "Counter: Counter({'a': 400, 'b': 400, 'd': 400, 'c': 300})\n"
          ]
        }
      ]
    },
    {
      "cell_type": "code",
      "source": [
        "#57. Write a Python program to find the highest 3 values in a dictionary\n",
        "my_dict = {'a': 100, 'b': 300, 'c': 250, 'd': 400, 'e': 150}\n",
        "\n",
        "top_3 = sorted(my_dict.items(), key=lambda item: item[1], reverse=True)[:3]\n",
        "print(\"Top 3 highest values in the dictionary:\")\n",
        "for key, value in top_3:\n",
        "    print(f\"{key}: {value}\")"
      ],
      "metadata": {
        "colab": {
          "base_uri": "https://localhost:8080/"
        },
        "id": "3BHkaAj--7-y",
        "outputId": "cdd45991-4c53-40cf-bcd9-bbd7d0812378"
      },
      "execution_count": null,
      "outputs": [
        {
          "output_type": "stream",
          "name": "stdout",
          "text": [
            "Top 3 highest values in the dictionary:\n",
            "d: 400\n",
            "b: 300\n",
            "c: 250\n"
          ]
        }
      ]
    },
    {
      "cell_type": "code",
      "source": [
        "#58.Write a Python program to combine values in python list of dictionaries.\n",
        "#Sample data: [{'item': 'item1', 'amount': 400}, {'item': 'item2', 'amount':\n",
        "#300}, o {'item': 'item1', 'amount': 750}]\n",
        "#Expected Output:\n",
        "#• Counter ({'item1': 1150, 'item2': 300})\n",
        "\n",
        "from collections import Counter\n",
        "\n",
        "data = [\n",
        "    {'item': 'item1', 'amount': 400},\n",
        "    {'item': 'item2', 'amount': 300},\n",
        "    {'item': 'item1', 'amount': 750}\n",
        "]\n",
        "\n",
        "result = Counter()\n",
        "\n",
        "for entry in data:\n",
        "    result[entry['item']] += entry['amount']\n",
        "print(\"Counter:\", result)"
      ],
      "metadata": {
        "colab": {
          "base_uri": "https://localhost:8080/"
        },
        "id": "Zix69dq3-8DH",
        "outputId": "64122c25-a8bf-4126-9e76-8bca38e1535e"
      },
      "execution_count": null,
      "outputs": [
        {
          "output_type": "stream",
          "name": "stdout",
          "text": [
            "Counter: Counter({'item1': 1150, 'item2': 300})\n"
          ]
        }
      ]
    },
    {
      "cell_type": "code",
      "source": [
        "#59.Write a Python program to create a dictionary from a string.\n",
        "#Note: Track the count of the letters from the string.\n",
        "\n",
        "from collections import Counter\n",
        "input_str = \"hello world\"\n",
        "\n",
        "letter_count = Counter(char for char in input_str if char.isalpha())\n",
        "\n",
        "print(\"Letter Count Dictionary:\", dict(letter_count))\n"
      ],
      "metadata": {
        "colab": {
          "base_uri": "https://localhost:8080/"
        },
        "id": "xPVv8nfI-8G8",
        "outputId": "9b3c7db3-1bf2-4bc7-bbea-131897123d06"
      },
      "execution_count": null,
      "outputs": [
        {
          "output_type": "stream",
          "name": "stdout",
          "text": [
            "Letter Count Dictionary: {'h': 1, 'e': 1, 'l': 3, 'o': 2, 'w': 1, 'r': 1, 'd': 1}\n"
          ]
        }
      ]
    },
    {
      "cell_type": "code",
      "source": [
        "#60. Sample string:\n",
        "#'w3resource' Expected output:\n",
        "#• {'3': 1,’s’: 1, 'r': 2, 'u': 1, 'w': 1, 'c': 1, 'e': 2, 'o': 1}\n",
        "\n",
        "from collections import Counter\n",
        "\n",
        "sample_str = 'w3resource'\n",
        "\n",
        "char_count = Counter(sample_str)\n",
        "\n",
        "print(dict(char_count))"
      ],
      "metadata": {
        "colab": {
          "base_uri": "https://localhost:8080/"
        },
        "id": "vhJZvC8P-8LK",
        "outputId": "f76690e0-d6bc-4384-d600-5e4d8df6c1a3"
      },
      "execution_count": null,
      "outputs": [
        {
          "output_type": "stream",
          "name": "stdout",
          "text": [
            "{'w': 1, '3': 1, 'r': 2, 'e': 2, 's': 1, 'o': 1, 'u': 1, 'c': 1}\n"
          ]
        }
      ]
    },
    {
      "cell_type": "code",
      "source": [
        "#61.Write a Python function to calculate the factorial of a number (a nonnegative integer)\n",
        "\n",
        "def factorial(n):\n",
        "    if n < 0:\n",
        "        return \"Factorial is not defined for negative numbers.\"\n",
        "\n",
        "    result = 1\n",
        "    for i in range(2, n + 1):\n",
        "        result *= i\n",
        "    return result\n",
        "\n",
        "num = 5\n",
        "print(f\"Factorial of {num} is {factorial(num)}\")"
      ],
      "metadata": {
        "colab": {
          "base_uri": "https://localhost:8080/"
        },
        "id": "_S7CqweaBllq",
        "outputId": "268fe6fe-f1fd-4753-e64c-eed63f83db05"
      },
      "execution_count": null,
      "outputs": [
        {
          "output_type": "stream",
          "name": "stdout",
          "text": [
            "Factorial of 5 is 120\n"
          ]
        }
      ]
    },
    {
      "cell_type": "code",
      "source": [
        "#62. Write a Python function to check whether a number is in a given range\n",
        "\n",
        "def is_in_range(number, start, end):\n",
        "    if start <= number <= end:\n",
        "        return True\n",
        "    else:\n",
        "        return False\n",
        "\n",
        "num = 7\n",
        "print(f\"Is {num} in range 5 to 10? {is_in_range(num, 5, 10)}\")"
      ],
      "metadata": {
        "colab": {
          "base_uri": "https://localhost:8080/"
        },
        "id": "a_FQHla8Blhj",
        "outputId": "aa26cb4f-8bf9-40c1-a50e-83f32cf3d81d"
      },
      "execution_count": null,
      "outputs": [
        {
          "output_type": "stream",
          "name": "stdout",
          "text": [
            "Is 7 in range 5 to 10? True\n"
          ]
        }
      ]
    },
    {
      "cell_type": "code",
      "source": [
        "#63.Write a Python function to check whether a number is perfect or not.\n",
        "\n",
        "def is_perfect(number):\n",
        "    if number <= 0:\n",
        "        return False\n",
        "\n",
        "    divisors_sum = 0\n",
        "    for i in range(1, number):\n",
        "        if number % i == 0:\n",
        "            divisors_sum += i\n",
        "\n",
        "    return divisors_sum == number\n",
        "\n",
        "num = 28\n",
        "if is_perfect(num):\n",
        "    print(f\"{num} is a perfect number.\")\n",
        "else:\n",
        "    print(f\"{num} is not a perfect number.\")"
      ],
      "metadata": {
        "colab": {
          "base_uri": "https://localhost:8080/"
        },
        "id": "oQS88d_ABldL",
        "outputId": "bc76cb24-41ad-4de4-cc47-5e33ae64c9a4"
      },
      "execution_count": null,
      "outputs": [
        {
          "output_type": "stream",
          "name": "stdout",
          "text": [
            "28 is a perfect number.\n"
          ]
        }
      ]
    },
    {
      "cell_type": "code",
      "source": [
        "#64.Write a Python function that checks whether a passed string is palindrome or not\n",
        "def is_palindrome(s):\n",
        "    s = s.replace(\" \", \"\").lower()\n",
        "    return s == s[::-1]\n",
        "\n",
        "text = \"Madam\"\n",
        "if is_palindrome(text):\n",
        "    print(f\"'{text}' is a palindrome.\")\n",
        "else:\n",
        "    print(f\"'{text}' is not a palindrome.\")"
      ],
      "metadata": {
        "colab": {
          "base_uri": "https://localhost:8080/"
        },
        "id": "zoTPCXriBlZE",
        "outputId": "baaaac8f-8d35-4fcc-9278-7b2d3c1ad27f"
      },
      "execution_count": null,
      "outputs": [
        {
          "output_type": "stream",
          "name": "stdout",
          "text": [
            "'Madam' is a palindrome.\n"
          ]
        }
      ]
    },
    {
      "cell_type": "code",
      "source": [
        "#65.How Many Basic Types of Functions Are Available in Python?\n",
        "#answer : 1. Built-in Functions\n",
        "#           2. User-defined Functions\n"
      ],
      "metadata": {
        "id": "ahfIXt4hBlUr"
      },
      "execution_count": null,
      "outputs": []
    },
    {
      "cell_type": "code",
      "source": [
        "#66.How can you pick a random item from a list or tuple?\n",
        "import random\n",
        "\n",
        "my_list = [10, 20, 30, 40, 50]\n",
        "random_item = random.choice(my_list)\n",
        "\n",
        "print(\"Random item from list:\", random_item)"
      ],
      "metadata": {
        "id": "0zMt3v64BlLm",
        "colab": {
          "base_uri": "https://localhost:8080/"
        },
        "outputId": "571a56b2-cb92-4be0-accd-49f4eaa3123e"
      },
      "execution_count": null,
      "outputs": [
        {
          "output_type": "stream",
          "name": "stdout",
          "text": [
            "Random item from list: 40\n"
          ]
        }
      ]
    },
    {
      "cell_type": "code",
      "source": [
        "#67.How can you pick a random item from a range?\n",
        "my_range = range(1, 11)  # 1 to 10\n",
        "\n",
        "random_item = random.choice(my_range)\n",
        "\n",
        "print(\"Random item from range:\", random_item)"
      ],
      "metadata": {
        "id": "iC9g7K-UBlCb",
        "colab": {
          "base_uri": "https://localhost:8080/"
        },
        "outputId": "79813210-c9cd-4ddb-e541-cf5f409abacd"
      },
      "execution_count": null,
      "outputs": [
        {
          "output_type": "stream",
          "name": "stdout",
          "text": [
            "Random item from range: 9\n"
          ]
        }
      ]
    },
    {
      "cell_type": "code",
      "source": [
        "#68.How can you get a random number in python?\n",
        "num = random.randint(1, 100)\n",
        "print(\"Random integer:\", num)"
      ],
      "metadata": {
        "id": "nJQyXhbU-8QB",
        "colab": {
          "base_uri": "https://localhost:8080/"
        },
        "outputId": "0bf1234c-f368-4e9d-a1ca-452419015dac"
      },
      "execution_count": null,
      "outputs": [
        {
          "output_type": "stream",
          "name": "stdout",
          "text": [
            "Random integer: 93\n"
          ]
        }
      ]
    },
    {
      "cell_type": "code",
      "source": [
        "#69.How will you set the starting value in generating random numbers?\n",
        "random.seed(10)\n",
        "\n",
        "print(random.randint(1, 100))\n",
        "print(random.random())"
      ],
      "metadata": {
        "colab": {
          "base_uri": "https://localhost:8080/"
        },
        "id": "y9c-zAu-UFDn",
        "outputId": "b298bb73-9bb3-4b6d-a428-9a1ad5691207"
      },
      "execution_count": null,
      "outputs": [
        {
          "output_type": "stream",
          "name": "stdout",
          "text": [
            "74\n",
            "0.032585065282054626\n"
          ]
        }
      ]
    },
    {
      "cell_type": "code",
      "source": [
        "#70.How will you randomize the items of a list in place?\n",
        "my_list = [1, 2, 3, 4, 5]\n",
        "random.shuffle(my_list)\n",
        "print(\"Shuffled list:\", my_list)"
      ],
      "metadata": {
        "colab": {
          "base_uri": "https://localhost:8080/"
        },
        "id": "lcOEo_kWUFHx",
        "outputId": "5f8af44f-56da-4b7c-8d4b-13eb2e5b0523"
      },
      "execution_count": null,
      "outputs": [
        {
          "output_type": "stream",
          "name": "stdout",
          "text": [
            "Shuffled list: [3, 2, 5, 1, 4]\n"
          ]
        }
      ]
    },
    {
      "cell_type": "code",
      "source": [
        "#71.What is File function in python? What are keywords to create and write file.\n",
        "\n",
        "#Answer = In Python, file functions allow you to create, open, read, write, and manipulate files.\n",
        "#Python uses built-in functions to perform file operations, primarily through the open() function.\n",
        "#open(),Read(),Write(),Writeline(),Readline(),Readlines(),Close(),With..."
      ],
      "metadata": {
        "id": "2Pw0f6SzUFKO"
      },
      "execution_count": null,
      "outputs": []
    },
    {
      "cell_type": "code",
      "source": [
        "#72.Write a Python program to read an entire text file.\n",
        "\n",
        "with open(\"example.txt\", \"r\") as file:\n",
        "    content = file.read()\n",
        "\n",
        "print(content)"
      ],
      "metadata": {
        "colab": {
          "base_uri": "https://localhost:8080/",
          "height": 211
        },
        "id": "MjyRfs2iUFMb",
        "outputId": "87c27df1-efae-4d63-a3f7-469cef063ac6"
      },
      "execution_count": null,
      "outputs": [
        {
          "output_type": "error",
          "ename": "FileNotFoundError",
          "evalue": "[Errno 2] No such file or directory: 'example.txt'",
          "traceback": [
            "\u001b[0;31m---------------------------------------------------------------------------\u001b[0m",
            "\u001b[0;31mFileNotFoundError\u001b[0m                         Traceback (most recent call last)",
            "\u001b[0;32m/tmp/ipython-input-46-3825554199.py\u001b[0m in \u001b[0;36m<cell line: 0>\u001b[0;34m()\u001b[0m\n\u001b[1;32m      1\u001b[0m \u001b[0;31m#72.Write a Python program to read an entire text file.\u001b[0m\u001b[0;34m\u001b[0m\u001b[0;34m\u001b[0m\u001b[0m\n\u001b[1;32m      2\u001b[0m \u001b[0;34m\u001b[0m\u001b[0m\n\u001b[0;32m----> 3\u001b[0;31m \u001b[0;32mwith\u001b[0m \u001b[0mopen\u001b[0m\u001b[0;34m(\u001b[0m\u001b[0;34m\"example.txt\"\u001b[0m\u001b[0;34m,\u001b[0m \u001b[0;34m\"r\"\u001b[0m\u001b[0;34m)\u001b[0m \u001b[0;32mas\u001b[0m \u001b[0mfile\u001b[0m\u001b[0;34m:\u001b[0m\u001b[0;34m\u001b[0m\u001b[0;34m\u001b[0m\u001b[0m\n\u001b[0m\u001b[1;32m      4\u001b[0m     \u001b[0mcontent\u001b[0m \u001b[0;34m=\u001b[0m \u001b[0mfile\u001b[0m\u001b[0;34m.\u001b[0m\u001b[0mread\u001b[0m\u001b[0;34m(\u001b[0m\u001b[0;34m)\u001b[0m\u001b[0;34m\u001b[0m\u001b[0;34m\u001b[0m\u001b[0m\n\u001b[1;32m      5\u001b[0m \u001b[0;34m\u001b[0m\u001b[0m\n",
            "\u001b[0;31mFileNotFoundError\u001b[0m: [Errno 2] No such file or directory: 'example.txt'"
          ]
        }
      ]
    },
    {
      "cell_type": "code",
      "source": [
        "#73.Write a Python program to append text to a file and display the text.\n",
        "with open(\"example.txt\", \"a\") as file:\n",
        "    file.write(\"\\nThis line is appended to the file.\")\n",
        "\n",
        "with open(\"example.txt\", \"r\") as file:\n",
        "    content = file.read()\n",
        "\n",
        "print(\"File content after appending:\")\n",
        "print(content)\n"
      ],
      "metadata": {
        "colab": {
          "base_uri": "https://localhost:8080/"
        },
        "id": "i_A9fn7nUFOy",
        "outputId": "bfbe70de-9941-4569-d43d-a61c703ababd"
      },
      "execution_count": null,
      "outputs": [
        {
          "output_type": "stream",
          "name": "stdout",
          "text": [
            "File content after appending:\n",
            "\n",
            "This line is appended to the file.\n"
          ]
        }
      ]
    },
    {
      "cell_type": "code",
      "source": [
        "#74. Write a Python program to read first n lines of a file.\n",
        "def read_first_n_lines(filename, n):\n",
        "    with open(filename, 'r') as file:\n",
        "        for i in range(n):\n",
        "            line = file.readline()\n",
        "            if not line:\n",
        "                break\n",
        "            print(line.strip())\n",
        "\n",
        "\n",
        "read_first_n_lines(\"example.txt\", 3)"
      ],
      "metadata": {
        "colab": {
          "base_uri": "https://localhost:8080/"
        },
        "id": "CUGNt8OPUFRA",
        "outputId": "6d7f13ef-2c30-4121-c90d-dd50175273d2"
      },
      "execution_count": null,
      "outputs": [
        {
          "output_type": "stream",
          "name": "stdout",
          "text": [
            "\n",
            "This line is appended to the file.\n"
          ]
        }
      ]
    },
    {
      "cell_type": "code",
      "source": [
        "#75.Write a Python program to read last n lines of a file.\n",
        "def read_last_n_lines(filename, n):\n",
        "    with open(filename, 'r') as file:\n",
        "        lines = file.readlines()\n",
        "        last_lines = lines[-n:]\n",
        "        for line in last_lines:\n",
        "            print(line.strip())\n",
        "\n",
        "read_last_n_lines(\"example.txt\", 3)"
      ],
      "metadata": {
        "colab": {
          "base_uri": "https://localhost:8080/"
        },
        "id": "lj9RYtltUFTB",
        "outputId": "9fe5fde9-252e-468d-d2ad-1e790defd099"
      },
      "execution_count": null,
      "outputs": [
        {
          "output_type": "stream",
          "name": "stdout",
          "text": [
            "\n",
            "This line is appended to the file.\n"
          ]
        }
      ]
    },
    {
      "cell_type": "code",
      "source": [
        "#76.Write a Python program to read a file line by line and store it into a list\n",
        "def read_file_to_list(filename):\n",
        "    with open(filename, 'r') as file:\n",
        "        lines = file.readlines()\n",
        "        lines = [line.strip() for line in lines]\n",
        "    return lines\n",
        "\n",
        "file_lines = read_file_to_list(\"example.txt\")\n",
        "print(\"Lines stored in list:\")\n",
        "print(file_lines)"
      ],
      "metadata": {
        "colab": {
          "base_uri": "https://localhost:8080/"
        },
        "id": "dwkvstjiUFVZ",
        "outputId": "23d7ec30-030c-4795-d581-e37db4fc2a00"
      },
      "execution_count": null,
      "outputs": [
        {
          "output_type": "stream",
          "name": "stdout",
          "text": [
            "Lines stored in list:\n",
            "['', 'This line is appended to the file.']\n"
          ]
        }
      ]
    },
    {
      "cell_type": "code",
      "source": [
        "#77. Write a Python program to read a file line by line store it into a variable.\n",
        "def read_file_to_variable(filename):\n",
        "    content = \"\"\n",
        "    with open(filename, 'r') as file:\n",
        "        for line in file:\n",
        "            content += line\n",
        "    return content\n",
        "\n",
        "file_content = read_file_to_variable(\"example.txt\")\n",
        "print(\"File content stored in variable:\")\n",
        "print(file_content)"
      ],
      "metadata": {
        "colab": {
          "base_uri": "https://localhost:8080/"
        },
        "id": "AwKQocdbYOLd",
        "outputId": "f767e076-f680-4689-91e0-2bcede71307d"
      },
      "execution_count": null,
      "outputs": [
        {
          "output_type": "stream",
          "name": "stdout",
          "text": [
            "File content stored in variable:\n",
            "\n",
            "This line is appended to the file.\n"
          ]
        }
      ]
    },
    {
      "cell_type": "code",
      "source": [
        "#78. Write a python program to find the longest words.\n",
        "\n",
        "def find_longest_words(filename):\n",
        "    with open(filename, 'r') as file:\n",
        "        words = file.read().split()\n",
        "        max_len = max(len(word) for word in words)\n",
        "        longest_words = [word for word in words if len(word) == max_len]\n",
        "    return longest_words\n",
        "\n",
        "longest = find_longest_words(\"example.txt\")\n",
        "print(\"Longest word(s):\")\n",
        "for word in longest:\n",
        "    print(word)"
      ],
      "metadata": {
        "colab": {
          "base_uri": "https://localhost:8080/"
        },
        "id": "1F4FJSk5YOJi",
        "outputId": "73a2e814-bad2-4119-b47a-e9e2271b8dea"
      },
      "execution_count": null,
      "outputs": [
        {
          "output_type": "stream",
          "name": "stdout",
          "text": [
            "Longest word(s):\n",
            "appended\n"
          ]
        }
      ]
    },
    {
      "cell_type": "code",
      "source": [
        "#79.Write a Python program to count the number of lines in a text file.\n",
        "def count_lines_in_file(filename):\n",
        "    with open(filename, 'r') as file:\n",
        "        line_count = sum(1 for line in file)\n",
        "    return line_count\n",
        "lines = count_lines_in_file(\"example.txt\")\n",
        "print(f\"Number of lines in the file: {lines}\")"
      ],
      "metadata": {
        "colab": {
          "base_uri": "https://localhost:8080/"
        },
        "id": "prZG4_bzYOGh",
        "outputId": "808aef76-bf97-45e8-fe3e-61458c2d8fcf"
      },
      "execution_count": null,
      "outputs": [
        {
          "output_type": "stream",
          "name": "stdout",
          "text": [
            "Number of lines in the file: 2\n"
          ]
        }
      ]
    },
    {
      "cell_type": "code",
      "source": [
        "#80.Write a Python program to count the frequency of words in a file.\n",
        "from collections import Counter\n",
        "import string\n",
        "\n",
        "def count_word_frequency(filename):\n",
        "    with open(filename, 'r') as file:\n",
        "        text = file.read().lower()\n",
        "        # Remove punctuation\n",
        "        text = text.translate(str.maketrans('', '', string.punctuation))\n",
        "        words = text.split()\n",
        "        word_counts = Counter(words)\n",
        "    return word_counts\n",
        "\n",
        "frequencies = count_word_frequency(\"example.txt\")\n",
        "print(\"Word Frequencies:\")\n",
        "for word, count in frequencies.items():\n",
        "    print(f\"{word}: {count}\")"
      ],
      "metadata": {
        "colab": {
          "base_uri": "https://localhost:8080/"
        },
        "id": "jLwD985oYOER",
        "outputId": "76efaafc-4c0a-4e08-b856-1f550f1fedfb"
      },
      "execution_count": null,
      "outputs": [
        {
          "output_type": "stream",
          "name": "stdout",
          "text": [
            "Word Frequencies:\n",
            "this: 1\n",
            "line: 1\n",
            "is: 1\n",
            "appended: 1\n",
            "to: 1\n",
            "the: 1\n",
            "file: 1\n"
          ]
        }
      ]
    },
    {
      "cell_type": "code",
      "source": [
        "#81. Write a Python program to write a list to a file.\n",
        "def write_list_to_file(filename, data_list):\n",
        "    with open(filename, 'w') as file:\n",
        "        for item in data_list:\n",
        "            file.write(str(item) + '\\n')\n",
        "\n",
        "my_list = ['apple', 'banana', 'cherry', 'date']\n",
        "write_list_to_file(\"fruits.txt\", my_list)\n",
        "\n",
        "print(\"List written to file successfully.\")"
      ],
      "metadata": {
        "colab": {
          "base_uri": "https://localhost:8080/"
        },
        "id": "JsS7V-lBYOBi",
        "outputId": "5fb35784-d9fc-46af-d054-e3b88fa8ecb2"
      },
      "execution_count": null,
      "outputs": [
        {
          "output_type": "stream",
          "name": "stdout",
          "text": [
            "List written to file successfully.\n"
          ]
        }
      ]
    },
    {
      "cell_type": "code",
      "source": [
        "#82. Write a Python program to copy the contents of a file to another file.\n",
        "def copy_file(source_file, destination_file):\n",
        "    with open(source_file, 'r') as src:\n",
        "        content = src.read()\n",
        "    with open(destination_file, 'w') as dst:\n",
        "        dst.write(content)\n",
        "\n",
        "copy_file(\"example.txt\", \"copy_of_example.txt\")\n",
        "print(\"File copied successfully.\")"
      ],
      "metadata": {
        "colab": {
          "base_uri": "https://localhost:8080/"
        },
        "id": "ATZVi4_RYN_W",
        "outputId": "d4e8a1ba-2e1f-409e-cdf6-fefc4a04e509"
      },
      "execution_count": null,
      "outputs": [
        {
          "output_type": "stream",
          "name": "stdout",
          "text": [
            "File copied successfully.\n"
          ]
        }
      ]
    },
    {
      "cell_type": "code",
      "source": [
        "#83.Explain Exception handling? What is an Error in Python?\n",
        "\n",
        "#Answer = In Python, an error is a problem in the program that causes it to stop execution. Errors are broadly categorized into:\n",
        "#1. Syntax Errors, 2. Runtime Errors (Exceptions)\n",
        "\n",
        "try:\n",
        "    x = 10 / 0\n",
        "except ZeroDivisionError:\n",
        "    print(\"You can't divide by zero!\")\n",
        "finally:\n",
        "    print(\"Execution complete.\")"
      ],
      "metadata": {
        "colab": {
          "base_uri": "https://localhost:8080/"
        },
        "id": "sH7rUQ2HYN8_",
        "outputId": "cfcc68dc-6de4-4807-99fe-449a5289d955"
      },
      "execution_count": null,
      "outputs": [
        {
          "output_type": "stream",
          "name": "stdout",
          "text": [
            "You can't divide by zero!\n",
            "Execution complete.\n"
          ]
        }
      ]
    },
    {
      "cell_type": "code",
      "source": [
        "#84.How many except statements can a try-except block have? Name Some built-in exception classes:\n",
        "#answer =\n",
        "try:\n",
        "    x = int(input(\"Enter a number: \"))\n",
        "    y = 10 / x\n",
        "except ValueError:\n",
        "    print(\"You must enter a number!\")\n",
        "except ZeroDivisionError:\n",
        "    print(\"Cannot divide by zero!\")\n",
        "except Exception as e:\n",
        "    print(\"An unexpected error occurred:\", e)"
      ],
      "metadata": {
        "colab": {
          "base_uri": "https://localhost:8080/"
        },
        "id": "lZjacuogYN4x",
        "outputId": "38342d77-fee2-4495-9414-8d15b900376e"
      },
      "execution_count": null,
      "outputs": [
        {
          "name": "stdout",
          "output_type": "stream",
          "text": [
            "Enter a number: 5\n"
          ]
        }
      ]
    },
    {
      "cell_type": "code",
      "source": [
        "#85.When will the else part of try-except-else be executed?\n",
        "\n",
        "try:\n",
        "    num = int(input(\"Enter a number: \"))\n",
        "    result = 10 / num\n",
        "except ZeroDivisionError:\n",
        "    print(\"Cannot divide by zero!\")\n",
        "except ValueError:\n",
        "    print(\"Invalid input! Enter a number.\")\n",
        "else:\n",
        "    print(\"No exception occurred. Result is:\", result)\n",
        "finally:\n",
        "    print(\"This will always run.\")"
      ],
      "metadata": {
        "colab": {
          "base_uri": "https://localhost:8080/"
        },
        "id": "Mk1nckoVaqvN",
        "outputId": "3dbf6414-22a3-42c5-fe1b-f1fa4237e207"
      },
      "execution_count": null,
      "outputs": [
        {
          "output_type": "stream",
          "name": "stdout",
          "text": [
            "Enter a number: 5\n",
            "No exception occurred. Result is: 2.0\n",
            "This will always run.\n"
          ]
        }
      ]
    },
    {
      "cell_type": "code",
      "source": [
        "#86.Can one block of except statements handle multiple exception?\n",
        "\n",
        "try:\n",
        "    num = int(input(\"Enter a number: \"))\n",
        "    result = 10 / num\n",
        "except ValueError:\n",
        "    print(\"Invalid input. Please enter a number.\")\n",
        "except ZeroDivisionError:\n",
        "    print(\"Cannot divide by zero.\")"
      ],
      "metadata": {
        "colab": {
          "base_uri": "https://localhost:8080/"
        },
        "id": "3Xz_Sf6waqrn",
        "outputId": "5e889cd0-c79c-4cd3-81a5-25c97ef018a2"
      },
      "execution_count": null,
      "outputs": [
        {
          "name": "stdout",
          "output_type": "stream",
          "text": [
            "Enter a number: 5\n"
          ]
        }
      ]
    },
    {
      "cell_type": "code",
      "source": [
        "#87.When is the finally block executed?\n",
        "def test():\n",
        "    try:\n",
        "        print(\"In try block\")\n",
        "        x = 1 / 0\n",
        "    except ZeroDivisionError:\n",
        "        print(\"In except block\")\n",
        "        return\n",
        "    finally:\n",
        "        print(\"In finally block\")\n",
        "\n",
        "test()"
      ],
      "metadata": {
        "colab": {
          "base_uri": "https://localhost:8080/"
        },
        "id": "S2RiGLBbaqpV",
        "outputId": "ae837533-e1f2-448b-ce64-c705f963e759"
      },
      "execution_count": null,
      "outputs": [
        {
          "output_type": "stream",
          "name": "stdout",
          "text": [
            "In try block\n",
            "In except block\n",
            "In finally block\n"
          ]
        }
      ]
    },
    {
      "cell_type": "code",
      "source": [
        "#88.What happens when „1‟== 1 is executed?\n",
        "type(\"1\")\n",
        "type(1)\n",
        "\"1\" == 1\n"
      ],
      "metadata": {
        "colab": {
          "base_uri": "https://localhost:8080/"
        },
        "id": "Qa6EF6xgaqmD",
        "outputId": "c194f86e-ca7d-4561-af46-a79b2e85bdfd"
      },
      "execution_count": null,
      "outputs": [
        {
          "output_type": "execute_result",
          "data": {
            "text/plain": [
              "False"
            ]
          },
          "metadata": {},
          "execution_count": 68
        }
      ]
    },
    {
      "cell_type": "code",
      "source": [
        "#89.How Do You Handle Exceptions with Try/Except/Finally in Python?\n",
        "try:\n",
        "    f = open(\"data.txt\", \"r\")\n",
        "    num = int(f.readline())\n",
        "    result = 10 / num\n",
        "except FileNotFoundError:\n",
        "    print(\"File not found.\")\n",
        "except ZeroDivisionError:\n",
        "    print(\"Cannot divide by zero.\")\n",
        "except ValueError:\n",
        "    print(\"Invalid number in file.\")\n",
        "finally:\n",
        "    print(\"Closing the file.\")\n",
        "    try:\n",
        "        f.close()\n",
        "    except:\n",
        "        pass\n"
      ],
      "metadata": {
        "colab": {
          "base_uri": "https://localhost:8080/"
        },
        "id": "1chpKeVmaqjT",
        "outputId": "1bfee82e-1b04-4814-86a0-cd5afc2c8da4"
      },
      "execution_count": null,
      "outputs": [
        {
          "output_type": "stream",
          "name": "stdout",
          "text": [
            "File not found.\n",
            "Closing the file.\n"
          ]
        }
      ]
    },
    {
      "cell_type": "code",
      "source": [
        "#90.Write python program that user to enter only odd numbers, else will raise an exception.\n",
        "def get_odd_number():\n",
        "    try:\n",
        "        num = int(input(\"Enter an odd number: \"))\n",
        "        if num % 2 == 0:\n",
        "            raise ValueError(\"That is not an odd number!\")\n",
        "        print(f\"Thank you! You entered the odd number: {num}\")\n",
        "    except ValueError as v:\n",
        "      pass"
      ],
      "metadata": {
        "id": "cI-EJHV1aqga"
      },
      "execution_count": null,
      "outputs": []
    }
  ]
}